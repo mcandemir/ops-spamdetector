{
 "cells": [
  {
   "cell_type": "code",
   "execution_count": 1,
   "id": "f440a684-906d-48d5-838d-cbaad665464a",
   "metadata": {},
   "outputs": [],
   "source": [
    "import pandas as pd\n",
    "import numpy as np\n",
    "\n",
    "from sklearn.pipeline import Pipeline\n",
    "\n",
    "import joblib\n",
    "import requests"
   ]
  },
  {
   "cell_type": "code",
   "execution_count": 2,
   "id": "56fb3112-f352-49b4-b939-06bb90e24887",
   "metadata": {
    "tags": []
   },
   "outputs": [
    {
     "name": "stdout",
     "output_type": "stream",
     "text": [
      "Overwriting settings.json\n"
     ]
    }
   ],
   "source": [
    "%%writefile settings.json\n",
    "{\n",
    "    \"debug\": \"true\"\n",
    "}"
   ]
  },
  {
   "cell_type": "code",
   "execution_count": 3,
   "id": "a9d5b58f-f3d0-4f72-8fb4-50c26b97f654",
   "metadata": {},
   "outputs": [
    {
     "name": "stdout",
     "output_type": "stream",
     "text": [
      "Overwriting model-settings.json\n"
     ]
    }
   ],
   "source": [
    "%%writefile model-settings.json\n",
    "{\n",
    "    \"name\": \"model\",\n",
    "    \"implementation\": \"mlserver_sklearn.SKLearnModel\",\n",
    "    \"parameters\": {\n",
    "        \"uri\": \"./model.joblib\",\n",
    "        \"version\": \"v1.2.0\"\n",
    "    }\n",
    "}"
   ]
  },
  {
   "cell_type": "code",
   "execution_count": 4,
   "id": "26930494-8e87-4db0-8306-951f309a82dc",
   "metadata": {},
   "outputs": [],
   "source": [
    "# pipeline = joblib.load('model.joblib')"
   ]
  },
  {
   "cell_type": "code",
   "execution_count": 5,
   "id": "043cbc16-c1ab-4797-9468-cda6fc07830f",
   "metadata": {},
   "outputs": [],
   "source": [
    "# pipeline.predict_proba(['Hello, we have finally met. You have earned $3000 dollars. You have 1 hour to claim your prize. Start now!'])"
   ]
  },
  {
   "cell_type": "code",
   "execution_count": 14,
   "id": "19065ee1-e4d7-471a-bbf1-7ac89305fc90",
   "metadata": {},
   "outputs": [],
   "source": [
    "text1 = ['Hello, we have finally met. You have earned $3000 dollars. You have 1 hour to claim your prize. Start now!']\n",
    "text2 = ['Hello James, how are you? Can you please set a meeting at 9 pm? Thank you.']\n",
    "\n",
    "inference_request = {\n",
    "  \"parameters\": {\n",
    "    \"content_type\": \"str\"\n",
    "  },\n",
    "  \"inputs\": [\n",
    "    {\n",
    "      \"name\": \"text2\",\n",
    "      \"data\": text2,\n",
    "      \"datatype\": \"BYTES\",\n",
    "      \"shape\": [1],\n",
    "    },\n",
    "  ]\n",
    "}"
   ]
  },
  {
   "cell_type": "code",
   "execution_count": 15,
   "id": "e37004b4-7b6a-4486-b7c0-07b4005dc4ab",
   "metadata": {
    "tags": []
   },
   "outputs": [],
   "source": [
    "endpoint = \"http://localhost:8080/v2/models/model/versions/v1.2.0/infer\"\n",
    "response = requests.post(endpoint, json=inference_request)\n",
    "\n",
    "json = response.json()"
   ]
  },
  {
   "cell_type": "code",
   "execution_count": 16,
   "id": "1bd24b91-92ad-446f-a7b6-af7c5945086e",
   "metadata": {},
   "outputs": [
    {
     "data": {
      "text/plain": [
       "[0]"
      ]
     },
     "execution_count": 16,
     "metadata": {},
     "output_type": "execute_result"
    }
   ],
   "source": [
    "json['outputs'][0]['data']"
   ]
  },
  {
   "cell_type": "code",
   "execution_count": 18,
   "id": "7f30fa05-142e-4161-ac66-f49755499252",
   "metadata": {},
   "outputs": [
    {
     "name": "stdout",
     "output_type": "stream",
     "text": [
      "2022-12-30 14:20:57,525 [mlserver] INFO - Using asyncio event-loop policy: uvloop\n",
      "Usage: mlserver [OPTIONS] COMMAND [ARGS]...\n",
      "\n",
      "  Command-line interface to manage MLServer models.\n",
      "\n",
      "Options:\n",
      "  --version  Show the version and exit.\n",
      "  --help     Show this message and exit.\n",
      "\n",
      "Commands:\n",
      "  build       Build a Docker image for a custom MLServer runtime.\n",
      "  dockerfile  Generate a Dockerfile\n",
      "  infer       Execute batch inference requests against V2 inference...\n",
      "  init        Generate a base project template\n",
      "  start       Start serving a machine learning model with MLServer.\n"
     ]
    }
   ],
   "source": [
    "!mlserver --help"
   ]
  },
  {
   "cell_type": "code",
   "execution_count": null,
   "id": "4168c7ad-b689-43ad-a98b-0f481e27837f",
   "metadata": {},
   "outputs": [],
   "source": []
  }
 ],
 "metadata": {
  "kernelspec": {
   "display_name": "Python 3",
   "language": "python",
   "name": "python3"
  },
  "language_info": {
   "codemirror_mode": {
    "name": "ipython",
    "version": 3
   },
   "file_extension": ".py",
   "mimetype": "text/x-python",
   "name": "python",
   "nbconvert_exporter": "python",
   "pygments_lexer": "ipython3",
   "version": "3.6.13"
  }
 },
 "nbformat": 4,
 "nbformat_minor": 5
}
